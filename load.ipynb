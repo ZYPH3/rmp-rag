{
 "cells": [
  {
   "cell_type": "code",
   "execution_count": 6,
   "metadata": {},
   "outputs": [],
   "source": [
    "from dotenv import load_dotenv\n",
    "load_dotenv()\n",
    "import os\n",
    "from openai import OpenAI\n",
    "import pinecone\n",
    "from pinecone import Pinecone, ServerlessSpec"
   ]
  },
  {
   "cell_type": "code",
   "execution_count": 4,
   "metadata": {},
   "outputs": [],
   "source": [
    "pc = Pinecone(api_key=os.getenv(\"PINECONE_API_KEY\"))\n",
    "pc.create_index(\n",
    "    name=\"rag\", dimension=1536, metric=\"cosine\", spec=ServerlessSpec(cloud=\"aws\", region=\"us-east-1\")\n",
    ")"
   ]
  },
  {
   "cell_type": "code",
   "execution_count": 5,
   "metadata": {},
   "outputs": [
    {
     "data": {
      "text/plain": [
       "[{'professor': 'Dr. Emily Thornton',\n",
       "  'subject': 'Biology',\n",
       "  'stars': 4,\n",
       "  'review': \"Dr. Thornton's lectures are engaging and well-structured. She's always willing to help during office hours.\"},\n",
       " {'professor': 'Prof. Michael Chang',\n",
       "  'subject': 'Computer Science',\n",
       "  'stars': 5,\n",
       "  'review': 'Brilliant instructor! Prof. Chang makes complex topics easy to understand and provides great real-world examples.'},\n",
       " {'professor': 'Dr. Samantha Lee',\n",
       "  'subject': 'Psychology',\n",
       "  'stars': 3,\n",
       "  'review': 'Dr. Lee knows her subject well, but her lectures can be a bit dry. More interactive sessions would be helpful.'},\n",
       " {'professor': 'Prof. Robert Johnson',\n",
       "  'subject': 'History',\n",
       "  'stars': 4,\n",
       "  'review': \"Prof. Johnson's passion for history is contagious. His anecdotes make the subject come alive.\"},\n",
       " {'professor': 'Dr. Sarah Martinez',\n",
       "  'subject': 'Chemistry',\n",
       "  'stars': 5,\n",
       "  'review': 'Dr. Martinez is an excellent teacher. Her lab sessions are well-organized and her explanations are crystal clear.'},\n",
       " {'professor': 'Prof. David Kim',\n",
       "  'subject': 'Economics',\n",
       "  'stars': 2,\n",
       "  'review': \"Prof. Kim's lectures are confusing and he seems uninterested in student questions. Needs improvement.\"},\n",
       " {'professor': 'Dr. Lisa Wong',\n",
       "  'subject': 'English Literature',\n",
       "  'stars': 4,\n",
       "  'review': \"Dr. Wong's analysis of texts is insightful. She encourages critical thinking and class discussions.\"},\n",
       " {'professor': 'Prof. James Taylor',\n",
       "  'subject': 'Physics',\n",
       "  'stars': 3,\n",
       "  'review': 'Prof. Taylor is knowledgeable but his pacing is too fast. More practice problems would be beneficial.'},\n",
       " {'professor': 'Dr. Rachel Green',\n",
       "  'subject': 'Environmental Science',\n",
       "  'stars': 5,\n",
       "  'review': \"Dr. Green's field trips and hands-on approach make learning fun and memorable. Highly recommended!\"},\n",
       " {'professor': 'Prof. Thomas Brown',\n",
       "  'subject': 'Mathematics',\n",
       "  'stars': 4,\n",
       "  'review': 'Prof. Brown explains complex concepts clearly. His problem-solving strategies are very helpful.'},\n",
       " {'professor': 'Dr. Olivia Parker',\n",
       "  'subject': 'Sociology',\n",
       "  'stars': 3,\n",
       "  'review': \"Dr. Parker's lectures are informative, but more engagement with current events would enhance the course.\"},\n",
       " {'professor': 'Prof. Andrew Wilson',\n",
       "  'subject': 'Political Science',\n",
       "  'stars': 5,\n",
       "  'review': \"Prof. Wilson's debates and simulations make political concepts easy to grasp. An outstanding educator!\"},\n",
       " {'professor': 'Dr. Emma Rodriguez',\n",
       "  'subject': 'Art History',\n",
       "  'stars': 4,\n",
       "  'review': \"Dr. Rodriguez's passion for art is evident. Her virtual museum tours are a great addition to the course.\"},\n",
       " {'professor': 'Prof. Daniel Lee',\n",
       "  'subject': 'Business Administration',\n",
       "  'stars': 2,\n",
       "  'review': \"Prof. Lee's lectures lack structure and real-world applications. More case studies would be helpful.\"},\n",
       " {'professor': 'Dr. Sophia Chen',\n",
       "  'subject': 'Linguistics',\n",
       "  'stars': 5,\n",
       "  'review': \"Dr. Chen's interactive teaching style and diverse language examples make her classes fascinating.\"},\n",
       " {'professor': 'Prof. William Harris',\n",
       "  'subject': 'Philosophy',\n",
       "  'stars': 4,\n",
       "  'review': 'Prof. Harris encourages critical thinking and lively discussions. His Socratic method is very effective.'},\n",
       " {'professor': 'Dr. Laura Simpson',\n",
       "  'subject': 'Geology',\n",
       "  'stars': 3,\n",
       "  'review': \"Dr. Simpson's field trips are great, but her lectures could use more visual aids and examples.\"},\n",
       " {'professor': 'Prof. Christopher Moore',\n",
       "  'subject': 'Music Theory',\n",
       "  'stars': 5,\n",
       "  'review': \"Prof. Moore's enthusiasm is infectious. His practical exercises really help in understanding complex concepts.\"},\n",
       " {'professor': 'Dr. Natalie White',\n",
       "  'subject': 'Anthropology',\n",
       "  'stars': 4,\n",
       "  'review': \"Dr. White's cross-cultural comparisons are eye-opening. Her assignments promote deep reflection.\"},\n",
       " {'professor': 'Prof. Kevin Turner',\n",
       "  'subject': 'Engineering',\n",
       "  'stars': 3,\n",
       "  'review': 'Prof. Turner is knowledgeable, but his teaching style is a bit monotonous. More interactive projects would help.'}]"
      ]
     },
     "execution_count": 5,
     "metadata": {},
     "output_type": "execute_result"
    }
   ],
   "source": [
    "import json\n",
    "data = json.load(open(\"reviews.json\"))\n",
    "data[\"reviews\"]"
   ]
  },
  {
   "cell_type": "code",
   "execution_count": 10,
   "metadata": {},
   "outputs": [],
   "source": [
    "processed_data = []\n",
    "client = OpenAI()\n",
    "\n",
    "for review in data ['reviews']:\n",
    "    response = client.embeddings.create(\n",
    "        input=review['review'],\n",
    "        model=\"text-embedding-3-small\",\n",
    "    )\n",
    "    embedding = response.data[0].embedding\n",
    "    processed_data.append({\n",
    "        \"values\": embedding,\n",
    "        \"id\": review[\"professor\"],\n",
    "        \"metadata\": {\n",
    "            \"review\": review[\"review\"],\n",
    "            \"subject\": review[\"subject\"],\n",
    "            \"stars\": review[\"stars\"]\n",
    "        }\n",
    "    })"
   ]
  }
 ],
 "metadata": {
  "kernelspec": {
   "display_name": "rag",
   "language": "python",
   "name": "python3"
  },
  "language_info": {
   "codemirror_mode": {
    "name": "ipython",
    "version": 3
   },
   "file_extension": ".py",
   "mimetype": "text/x-python",
   "name": "python",
   "nbconvert_exporter": "python",
   "pygments_lexer": "ipython3",
   "version": "3.10.4"
  }
 },
 "nbformat": 4,
 "nbformat_minor": 2
}
